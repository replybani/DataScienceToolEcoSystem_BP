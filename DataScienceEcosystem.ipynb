{
 "cells": [
  {
   "cell_type": "markdown",
   "id": "f4ab2ccb-a59b-4e7b-a9c2-2e09e1b5f195",
   "metadata": {},
   "source": [
    "# Data Science Tools and Ecosystem"
   ]
  },
  {
   "cell_type": "markdown",
   "id": "edd2eb5f-e296-4ad6-829b-dd6a91fa6870",
   "metadata": {},
   "source": [
    "## Author\n",
    "Banibrata Poddar"
   ]
  },
  {
   "cell_type": "markdown",
   "id": "0bc9ca40-c440-40de-9153-c548ffd97aeb",
   "metadata": {},
   "source": [
    "In this notebook, Data Science Tools and Ecosystem are summarized."
   ]
  },
  {
   "cell_type": "markdown",
   "id": "17055288-86fc-4392-a3c7-8dff59ac3de8",
   "metadata": {},
   "source": [
    "**Objectives:**\n",
    "* List popular languages for data science\n",
    "* List of commonly used libraries in data science\n",
    "* Opensource development environment for data science\n",
    "* Examples of arithmetic expressions\n",
    "* Formula for converting minutes to hours"
   ]
  },
  {
   "cell_type": "markdown",
   "id": "8890d130-2486-4637-9385-4fbc3358ab6b",
   "metadata": {},
   "source": [
    "Some of the popular languages that Data Scientists use are:\n",
    "1. R\n",
    "2. Python\n",
    "3. Java\n",
    "4. SQL\n",
    "5. Julia\n",
    "6. Scala\n",
    "7. C++"
   ]
  },
  {
   "cell_type": "markdown",
   "id": "751e7edc-cf28-432b-bccc-5e3e314512a0",
   "metadata": {},
   "source": [
    "Some of the commonly used libraries used by Data Scientists include:\n",
    "1. Pandas\n",
    "2. NumPy\n",
    "3. SciPy\n",
    "4. Matplolib\n",
    "5. TensorFlow\n",
    "6. PyTorch\n",
    "7. Keras\n",
    "8. Scikit-learn\n",
    "9. Natural Language Toolkit (NLTK)\n",
    "10. dplyr\n",
    "11. stingr\n",
    "12. ggplot\n",
    "13. caret"
   ]
  },
  {
   "cell_type": "markdown",
   "id": "1581a249-5693-4b37-9fa6-2b7dd236c6fe",
   "metadata": {},
   "source": [
    "|Data Science Tools|\n",
    "|---|\n",
    "|JupyterLab|\n",
    "|R Studio|\n",
    "|Apache Zeppelin|"
   ]
  },
  {
   "cell_type": "markdown",
   "id": "414bd43c-4189-44fe-808f-196df4f87799",
   "metadata": {},
   "source": [
    "Below are a few examples of evaluating arithmetic expressions in Python"
   ]
  },
  {
   "cell_type": "code",
   "execution_count": 4,
   "id": "5a5067de-604c-4580-813a-f945b37f5a8d",
   "metadata": {},
   "outputs": [
    {
     "data": {
      "text/plain": [
       "17"
      ]
     },
     "execution_count": 4,
     "metadata": {},
     "output_type": "execute_result"
    }
   ],
   "source": [
    "# This a simple arithmetic expression to mutiply then add integers\n",
    "(3*4)+5"
   ]
  },
  {
   "cell_type": "code",
   "execution_count": 2,
   "id": "ccce0a2d-fdd4-4f0b-8d54-978661041a45",
   "metadata": {},
   "outputs": [
    {
     "name": "stdout",
     "output_type": "stream",
     "text": [
      "3.3333333333333335\n"
     ]
    }
   ],
   "source": [
    "# This will convert 200 minutes to hours by diving by 60\n",
    "x=200\n",
    "y=200/60\n",
    "print(y)"
   ]
  }
 ],
 "metadata": {
  "kernelspec": {
   "display_name": "Python 3 (ipykernel)",
   "language": "python",
   "name": "python3"
  },
  "language_info": {
   "codemirror_mode": {
    "name": "ipython",
    "version": 3
   },
   "file_extension": ".py",
   "mimetype": "text/x-python",
   "name": "python",
   "nbconvert_exporter": "python",
   "pygments_lexer": "ipython3",
   "version": "3.11.7"
  }
 },
 "nbformat": 4,
 "nbformat_minor": 5
}
